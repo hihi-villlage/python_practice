{
  "nbformat": 4,
  "nbformat_minor": 0,
  "metadata": {
    "colab": {
      "provenance": [],
      "authorship_tag": "ABX9TyNOeFpYf0OCY0M1J/DQhrsh"
    },
    "kernelspec": {
      "name": "python3",
      "display_name": "Python 3"
    },
    "language_info": {
      "name": "python"
    }
  },
  "cells": [
    {
      "cell_type": "code",
      "execution_count": 9,
      "metadata": {
        "colab": {
          "base_uri": "https://localhost:8080/"
        },
        "id": "5dVtZpK4GJG3",
        "outputId": "dbab6735-b933-492c-c607-ef89627ed762"
      },
      "outputs": [
        {
          "output_type": "stream",
          "name": "stdout",
          "text": [
            "{'name': 'YUNA', 'age': '25'}\n",
            "YUNA\n",
            "{'name': 'YUNA', 'age': '25', 'fav_food': 'Apple'}\n",
            "{'name': 'YUNA', 'age': '25', 'fav_food': 'Sushi'}\n",
            "{'name': 'YUNA', 'age': '25'}\n"
          ]
        }
      ],
      "source": [
        "# dictionaryの作り方\n",
        "# ディクショナリー名{'キー' : '値'}\n",
        "user = {'name' : 'YUNA', 'age' : '25'}\n",
        "print (user)\n",
        "\n",
        "# 値を取り出す\n",
        "print (user['name'])\n",
        "\n",
        "# 値を追加\n",
        "user ['fav_food'] = 'Apple'\n",
        "print (user)\n",
        "\n",
        "# 値の訂正\n",
        "user ['fav_food'] = 'Sushi'\n",
        "print (user)\n",
        "\n",
        "# 値の消去\n",
        "user.pop ('fav_food')\n",
        "print (user)"
      ]
    },
    {
      "cell_type": "code",
      "source": [
        "# tuple\n",
        "scores = (60, 80, 100)\n",
        "print (scores)\n",
        "\n",
        "# scores [0] =70\n",
        "# 'tuple' object does not support item assignment\n",
        "\n",
        "# 要素が一つしかないとき 値（）の中に　「, 」\n",
        "language = ('python', )\n",
        "print (language[0])"
      ],
      "metadata": {
        "colab": {
          "base_uri": "https://localhost:8080/"
        },
        "id": "e7m81Wl-Tn1X",
        "outputId": "180cb3f4-a3fc-4710-ccc4-ec860f1c894d"
      },
      "execution_count": 15,
      "outputs": [
        {
          "output_type": "stream",
          "name": "stdout",
          "text": [
            "(60, 80, 100)\n",
            "python\n"
          ]
        }
      ]
    },
    {
      "cell_type": "code",
      "source": [
        "# 演習\n",
        "user = {'name' : 'Yuta Nakamura', 'gender' : 'man', 'age' : '21'}\n",
        "# print (\"名前: {user ['name']}\")\n",
        "print (user)\n",
        "print (user['name'])\n",
        "print (f\"名前: {user['name']}\") #’’ではエラー。\n",
        "print (f\"性別: {user['gender']}\")\n",
        "print (f\"年齢: {user['age']}\")"
      ],
      "metadata": {
        "colab": {
          "base_uri": "https://localhost:8080/"
        },
        "id": "Pae2DChwfQkt",
        "outputId": "6dde6499-f6f9-4a27-8df7-80fe0b79c69a"
      },
      "execution_count": 34,
      "outputs": [
        {
          "output_type": "stream",
          "name": "stdout",
          "text": [
            "{'name': 'Yuta Nakamura', 'gender': 'man', 'age': '21'}\n",
            "Yuta Nakamura\n",
            "名前: Yuta Nakamura\n",
            "性別: man\n",
            "年齢: 21\n"
          ]
        }
      ]
    },
    {
      "cell_type": "code",
      "source": [],
      "metadata": {
        "id": "Io2fb_Ptt9xI"
      },
      "execution_count": null,
      "outputs": []
    }
  ]
}