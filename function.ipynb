{
  "nbformat": 4,
  "nbformat_minor": 0,
  "metadata": {
    "colab": {
      "provenance": [],
      "authorship_tag": "ABX9TyPaFBhOpO8c5NzD+tr8glE7"
    },
    "kernelspec": {
      "name": "python3",
      "display_name": "Python 3"
    },
    "language_info": {
      "name": "python"
    }
  },
  "cells": [
    {
      "cell_type": "code",
      "execution_count": null,
      "metadata": {
        "id": "Z5wQ_g8lwwj4"
      },
      "outputs": [],
      "source": [
        "# 関数\n",
        "# 組み込み関数：　もともとpythonで定義されている関数\n",
        "# ユーザー定義関数：　自分で定義する関数"
      ]
    },
    {
      "cell_type": "code",
      "source": [
        "# 関数を作ってみる\n",
        "# def function_name(): で作れる。作るだけでは何も実行できない。function_name() で実行。\n",
        "def hello():\n",
        "    print ('hello, how are u?')\n",
        "hello()"
      ],
      "metadata": {
        "colab": {
          "base_uri": "https://localhost:8080/"
        },
        "id": "LlT61qYUxwEh",
        "outputId": "bd6e813e-f4de-4882-a9c9-40a90c33dd0d"
      },
      "execution_count": 2,
      "outputs": [
        {
          "output_type": "stream",
          "name": "stdout",
          "text": [
            "hello, how are u?\n"
          ]
        }
      ]
    },
    {
      "cell_type": "code",
      "source": [
        "# 関数に引数を入れる\n",
        "def hello(name, fav_food):\n",
        "    print (f'hello, how are u, {name}?')\n",
        "    print (f'My favorite food is {fav_food}.\\n')\n",
        "\n",
        "hello('Yuna', 'apple')\n",
        "hello('Nao', 'orange')"
      ],
      "metadata": {
        "colab": {
          "base_uri": "https://localhost:8080/"
        },
        "id": "fEtE19AUyMWk",
        "outputId": "9166166a-6b27-4bca-a455-6c57ce3acfc1"
      },
      "execution_count": 4,
      "outputs": [
        {
          "output_type": "stream",
          "name": "stdout",
          "text": [
            "hello, how are u, Yuna?\n",
            "My favorite food is apple.\n",
            "\n",
            "hello, how are u, Nao?\n",
            "My favorite food is orange.\n",
            "\n"
          ]
        }
      ]
    },
    {
      "cell_type": "code",
      "source": [
        "# 戻り値：関数が処理した後に、結果として戻ってくる値のこと\n",
        "# 例）消費税込みの価格を出す関数\n",
        "def include_tax(original_price):\n",
        "    price = original_price * 1.1\n",
        "    return price\n",
        "print (include_tax(100))\n",
        "# 110.00000000000001 小数点以下の計算が苦手で誤差が出る「丸め誤差」\n",
        "# →小数点以下を切り捨ててみる\n",
        "# mathモジュール導入\n",
        "import math\n",
        "def include_tax(original_price):\n",
        "    price = original_price * 1.1\n",
        "    return math.floor (price)\n",
        "print (include_tax(100))"
      ],
      "metadata": {
        "colab": {
          "base_uri": "https://localhost:8080/"
        },
        "id": "apJZuznMBXhS",
        "outputId": "8746977a-3d26-4df6-dcb4-c9c60e25faaa"
      },
      "execution_count": 9,
      "outputs": [
        {
          "output_type": "stream",
          "name": "stdout",
          "text": [
            "110.00000000000001\n",
            "110\n"
          ]
        }
      ]
    },
    {
      "cell_type": "code",
      "source": [
        "# practice\n",
        "def triangle_area (bottom, height):\n",
        "    triangle_area = (bottom * height) /2\n",
        "    return triangle_area\n",
        "    # return (bottom * height) / 2 でもよい\n",
        "print (f'{triangle_area (10, 20)} cm^2')"
      ],
      "metadata": {
        "colab": {
          "base_uri": "https://localhost:8080/"
        },
        "id": "Xm6EGOkcFAM-",
        "outputId": "42eab41b-0acc-478f-caae-ce6f2de424a2"
      },
      "execution_count": 4,
      "outputs": [
        {
          "output_type": "stream",
          "name": "stdout",
          "text": [
            "100.0 cm^2\n"
          ]
        }
      ]
    },
    {
      "cell_type": "code",
      "source": [],
      "metadata": {
        "id": "ywsYsUUKFOjj"
      },
      "execution_count": null,
      "outputs": []
    }
  ]
}