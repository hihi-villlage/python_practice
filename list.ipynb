{
  "nbformat": 4,
  "nbformat_minor": 0,
  "metadata": {
    "colab": {
      "provenance": [],
      "authorship_tag": "ABX9TyODPNdnN9/MbNd1szLnJg3q"
    },
    "kernelspec": {
      "name": "python3",
      "display_name": "Python 3"
    },
    "language_info": {
      "name": "python"
    }
  },
  "cells": [
    {
      "cell_type": "code",
      "execution_count": 3,
      "metadata": {
        "colab": {
          "base_uri": "https://localhost:8080/"
        },
        "id": "DD-NxXH3p1Dd",
        "outputId": "58db98e3-2139-439e-d9dd-67494b43cc4d"
      },
      "outputs": [
        {
          "output_type": "stream",
          "name": "stdout",
          "text": [
            "90\n",
            "100\n",
            "80\n"
          ]
        }
      ],
      "source": [
        "# リストに入れる方法・・・リスト名=[]\n",
        "# その後、インデックスを取得したい時は リスト名[#] #は０から\n",
        "score = [90, 100, 80]\n",
        "print (score [0])\n",
        "print (score [1])\n",
        "print (score [2])"
      ]
    },
    {
      "cell_type": "code",
      "source": [
        "# リストの要素数はLEN関数で求める\n",
        "scores = [90, 100, 80]\n",
        "print (len(scores))\n",
        "\n",
        "# リストの要素の合計値はSUM関数で求める\n",
        "total = sum(scores)\n",
        "print (total)\n",
        "\n",
        "# 平均値はsum/len\n",
        "average = total / len(scores)\n",
        "print (average)\n",
        "\n",
        "# 後ろから要素を見たいときは負のインデックス\n",
        "print (scores[-1])\n",
        "\n",
        "# 要素を選んで取り出したいとき[#:##]で指定できる。＃以上＃未満。スライスという。\n",
        "scores_slice = [100, 90, 80, 70, 60]\n",
        "print (scores_slice[2:4])\n",
        "\n",
        "# リストの中をリストにして二次元配列にすることも可能\n",
        "matrix = [\n",
        "    [1,2,3],\n",
        "    [3,4,5],\n",
        "    [6,7,8],\n",
        "]\n",
        "print (matrix)\n",
        "print (matrix[1])\n",
        "\n",
        "# リストの中に、数字や文字、[リスト]が混在していても使用可能\n",
        "# 空のリストも作れる\n",
        "empty = []\n",
        "print (empty)"
      ],
      "metadata": {
        "colab": {
          "base_uri": "https://localhost:8080/"
        },
        "id": "N8bCLdMgrPsV",
        "outputId": "a7ad6c24-650c-4d87-8e24-3c44f938a4e2"
      },
      "execution_count": 16,
      "outputs": [
        {
          "output_type": "stream",
          "name": "stdout",
          "text": [
            "3\n",
            "270\n",
            "90.0\n",
            "80\n",
            "[80, 70]\n",
            "[[1, 2, 3], [3, 4, 5], [6, 7, 8]]\n",
            "[3, 4, 5]\n",
            "[]\n"
          ]
        }
      ]
    },
    {
      "cell_type": "code",
      "source": [
        "# リストの操作\n",
        "scores = [10, 20, 30, 40, 50]\n",
        "# 要素の追加 list_name.append (add_index)\n",
        "scores.append (60)\n",
        "print (scores)\n",
        "# 要素の削除　list_name.remove (remove_index)\n",
        "scores.remove (40)\n",
        "print (scores)\n",
        "\n",
        "# インデックス指定して削除　list_name.pop (index)\n",
        "# 末尾の場合は　(empty)\n",
        "scores.pop ()\n",
        "print (scores)\n",
        "scores.pop (1)\n",
        "print (scores)\n",
        "\n",
        "# インデックスを指定して追加　list_name.insert (index, value)\n",
        "scores.insert (1, 20)\n",
        "print (scores)\n",
        "\n",
        "# 全削除\n",
        "scores.clear ()\n",
        "print (scores)"
      ],
      "metadata": {
        "colab": {
          "base_uri": "https://localhost:8080/"
        },
        "id": "_Sy2nvrhrurx",
        "outputId": "9804c9cd-6865-4d1d-fe90-9694d7791a92"
      },
      "execution_count": 8,
      "outputs": [
        {
          "output_type": "stream",
          "name": "stdout",
          "text": [
            "[10, 20, 30, 40, 50, 60]\n",
            "[10, 20, 30, 50, 60]\n",
            "[10, 20, 30, 50]\n",
            "[10, 30, 50]\n",
            "[10, 20, 30, 50]\n",
            "[]\n"
          ]
        }
      ]
    },
    {
      "cell_type": "code",
      "source": [
        "# ランダムな値をリストから出す方法\n",
        "# １、ランダムモジュールの生成\n",
        "import random\n",
        "# ２、リストの作成\n",
        "omikuji_list = ['大吉', '小吉', '凶', '大凶', '末吉']\n",
        "# index 0~4がランダムにvalueとして入る変数を定義\n",
        "num = random.randint (0,4)\n",
        "# print (num)　→ランダムで出てくる\n",
        "# numをindexとして指定\n",
        "print (omikuji_list[num])"
      ],
      "metadata": {
        "colab": {
          "base_uri": "https://localhost:8080/"
        },
        "id": "Fm4F_ENZzUZW",
        "outputId": "eeceb3c6-61d7-434b-e095-1c2cc2c5956e"
      },
      "execution_count": 21,
      "outputs": [
        {
          "output_type": "stream",
          "name": "stdout",
          "text": [
            "末吉\n"
          ]
        }
      ]
    },
    {
      "cell_type": "code",
      "source": [
        "# 演習、サイコロの作成　出目は数字ではなく質問\n",
        "import random\n",
        "dice_list = ['favorite food', 'favorite singer', 'favorite sport', 'favorite book', 'favorite actor']\n",
        "num = random.randint (0,4)\n",
        "print (dice_list[num])"
      ],
      "metadata": {
        "colab": {
          "base_uri": "https://localhost:8080/"
        },
        "id": "i0kJwaTn3ThM",
        "outputId": "ccf23912-b4d1-40c5-ba79-28407f2a08e9"
      },
      "execution_count": 26,
      "outputs": [
        {
          "output_type": "stream",
          "name": "stdout",
          "text": [
            "favorite actor\n"
          ]
        }
      ]
    },
    {
      "cell_type": "code",
      "source": [],
      "metadata": {
        "id": "cRNZHUtG4UrR"
      },
      "execution_count": null,
      "outputs": []
    }
  ]
}