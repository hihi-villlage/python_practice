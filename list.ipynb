{
  "nbformat": 4,
  "nbformat_minor": 0,
  "metadata": {
    "colab": {
      "provenance": [],
      "authorship_tag": "ABX9TyOP/irsFDckLKAXWZbYXGXm",
      "include_colab_link": true
    },
    "kernelspec": {
      "name": "python3",
      "display_name": "Python 3"
    },
    "language_info": {
      "name": "python"
    }
  },
  "cells": [
    {
      "cell_type": "markdown",
      "metadata": {
        "id": "view-in-github",
        "colab_type": "text"
      },
      "source": [
        "<a href=\"https://colab.research.google.com/github/hihi-villlage/python_practice/blob/main/list.ipynb\" target=\"_parent\"><img src=\"https://colab.research.google.com/assets/colab-badge.svg\" alt=\"Open In Colab\"/></a>"
      ]
    },
    {
      "cell_type": "code",
      "execution_count": 3,
      "metadata": {
        "colab": {
          "base_uri": "https://localhost:8080/"
        },
        "id": "DD-NxXH3p1Dd",
        "outputId": "58db98e3-2139-439e-d9dd-67494b43cc4d"
      },
      "outputs": [
        {
          "output_type": "stream",
          "name": "stdout",
          "text": [
            "90\n",
            "100\n",
            "80\n"
          ]
        }
      ],
      "source": [
        "# リストに入れる方法・・・リスト名=[]\n",
        "# その後、インデックスを取得したい時は リスト名[#] #は０から\n",
        "score = [90, 100, 80]\n",
        "print (score [0])\n",
        "print (score [1])\n",
        "print (score [2])"
      ]
    },
    {
      "cell_type": "code",
      "source": [
        "# リストの要素数はLEN関数で求める\n",
        "scores = [90, 100, 80]\n",
        "print (len(scores))\n",
        "\n",
        "# リストの要素の合計値はSUM関数で求める\n",
        "total = sum(scores)\n",
        "print (total)\n",
        "\n",
        "# 平均値はsum/len\n",
        "average = total / len(scores)\n",
        "print (average)\n",
        "\n",
        "# 後ろから要素を見たいときは負のインデックス\n",
        "print (scores[-1])\n",
        "\n",
        "# 要素を選んで取り出したいとき[#:##]で指定できる。＃以上＃未満。スライスという。\n",
        "scores_slice = [100, 90, 80, 70, 60]\n",
        "print (scores_slice[2:4])\n",
        "\n",
        "# リストの中をリストにして二次元配列にすることも可能\n",
        "matrix = [\n",
        "    [1,2,3],\n",
        "    [3,4,5],\n",
        "    [6,7,8],\n",
        "]\n",
        "print (matrix)\n",
        "print (matrix[1])\n",
        "\n",
        "# リストの中に、数字や文字、[リスト]が混在していても使用可能\n",
        "# 空のリストも作れる\n",
        "empty = []\n",
        "print (empty)"
      ],
      "metadata": {
        "colab": {
          "base_uri": "https://localhost:8080/"
        },
        "id": "N8bCLdMgrPsV",
        "outputId": "a7ad6c24-650c-4d87-8e24-3c44f938a4e2"
      },
      "execution_count": 16,
      "outputs": [
        {
          "output_type": "stream",
          "name": "stdout",
          "text": [
            "3\n",
            "270\n",
            "90.0\n",
            "80\n",
            "[80, 70]\n",
            "[[1, 2, 3], [3, 4, 5], [6, 7, 8]]\n",
            "[3, 4, 5]\n",
            "[]\n"
          ]
        }
      ]
    },
    {
      "cell_type": "code",
      "source": [
        "# リストの操作\n",
        "scores = [10, 20, 30, 40, 50]\n",
        "# 要素の追加 list_name.append (add_index)\n",
        "scores.append (60)\n",
        "print (scores)\n",
        "# 要素の削除　list_name.remove (remove_index)\n",
        "scores.remove (40)\n",
        "print (scores)\n",
        "\n",
        "# インデックス指定して削除　list_name.pop (index)\n",
        "# 末尾の場合は　(empty)\n",
        "scores.pop ()\n",
        "print (scores)\n",
        "scores.pop (1)\n",
        "print (scores)\n",
        "\n",
        "# インデックスを指定して追加　list_name.insert (index, value)\n",
        "scores.insert (1, 20)\n",
        "print (scores)\n",
        "\n",
        "# 全削除\n",
        "scores.clear ()\n",
        "print (scores)"
      ],
      "metadata": {
        "colab": {
          "base_uri": "https://localhost:8080/"
        },
        "id": "_Sy2nvrhrurx",
        "outputId": "9804c9cd-6865-4d1d-fe90-9694d7791a92"
      },
      "execution_count": 8,
      "outputs": [
        {
          "output_type": "stream",
          "name": "stdout",
          "text": [
            "[10, 20, 30, 40, 50, 60]\n",
            "[10, 20, 30, 50, 60]\n",
            "[10, 20, 30, 50]\n",
            "[10, 30, 50]\n",
            "[10, 20, 30, 50]\n",
            "[]\n"
          ]
        }
      ]
    },
    {
      "cell_type": "code",
      "source": [],
      "metadata": {
        "id": "Fm4F_ENZzUZW"
      },
      "execution_count": null,
      "outputs": []
    }
  ]
}