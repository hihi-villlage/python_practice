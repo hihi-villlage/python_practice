{
  "nbformat": 4,
  "nbformat_minor": 0,
  "metadata": {
    "colab": {
      "provenance": [],
      "authorship_tag": "ABX9TyNnVfAKsSOoZAaX38XJBqcN",
      "include_colab_link": true
    },
    "kernelspec": {
      "name": "python3",
      "display_name": "Python 3"
    },
    "language_info": {
      "name": "python"
    }
  },
  "cells": [
    {
      "cell_type": "markdown",
      "metadata": {
        "id": "view-in-github",
        "colab_type": "text"
      },
      "source": [
        "<a href=\"https://colab.research.google.com/github/hihi-villlage/python_practice/blob/main/python_programming_basics.ipynb\" target=\"_parent\"><img src=\"https://colab.research.google.com/assets/colab-badge.svg\" alt=\"Open In Colab\"/></a>"
      ]
    },
    {
      "cell_type": "code",
      "execution_count": null,
      "metadata": {
        "id": "aoe90JNP8EgO"
      },
      "outputs": [],
      "source": [
        "#単一行のコメントa\n",
        "# print('Comment practice!')\n",
        "# コメントアウト\n",
        "print('Comment practice!')　　# comment"
      ]
    },
    {
      "cell_type": "code",
      "source": [
        "print(1)\n",
        "print (123)\n",
        "# （）の中にある文字をリテラルという\n",
        "# 数値リテラルと文字列リテラルがある\n",
        "# 文字列リテラルは’’や””で囲む\n",
        "print(1_000_000)"
      ],
      "metadata": {
        "colab": {
          "base_uri": "https://localhost:8080/"
        },
        "id": "-YtUt5To8uy_",
        "outputId": "c09012da-1fac-4b4b-b117-103b4aeb414e"
      },
      "execution_count": null,
      "outputs": [
        {
          "output_type": "stream",
          "name": "stdout",
          "text": [
            "1\n",
            "123\n",
            "1000000\n"
          ]
        }
      ]
    },
    {
      "cell_type": "code",
      "source": [
        "# 数値の演算\n",
        "print(1+1)\n",
        "# +など計算記号は演算子\n",
        "print(7//2) #割り算の商\n",
        "print(7%2) #割り算の余り\n",
        "print(2**3) #累乗\n",
        "print(1+2*3)\n",
        "#計算の順番は普通の計算と同じ。掛け算割り算優先。\n",
        "#割り算の商や余りは足し引きより優先"
      ],
      "metadata": {
        "colab": {
          "base_uri": "https://localhost:8080/"
        },
        "id": "rH1hIF8t9Hfd",
        "outputId": "ab73bf4e-a33f-486a-c569-b6302148cd24"
      },
      "execution_count": null,
      "outputs": [
        {
          "output_type": "stream",
          "name": "stdout",
          "text": [
            "2\n",
            "3\n",
            "1\n",
            "8\n",
            "7\n"
          ]
        }
      ]
    },
    {
      "cell_type": "code",
      "source": [
        "# エラー\n",
        "# 全角が入っている場合 invalid charactor\n",
        "# syntaxerror: 構文エラー"
      ],
      "metadata": {
        "id": "K_wMxvwI-JYk"
      },
      "execution_count": null,
      "outputs": []
    },
    {
      "cell_type": "code",
      "source": [
        "# エスケープシーケンス optionキー＋￥　「これは文字です」の意味になる\n",
        "print ('I\\'m fine.')\n",
        "print('\\\"Hello\\\", World!')\n",
        "print('Hello, \\nWorld!')\n",
        "print('\\\\')"
      ],
      "metadata": {
        "colab": {
          "base_uri": "https://localhost:8080/"
        },
        "id": "8CKEyS59AIgg",
        "outputId": "9da42f8b-60d7-4c2a-8e4d-fb427cbd61cc"
      },
      "execution_count": null,
      "outputs": [
        {
          "output_type": "stream",
          "name": "stdout",
          "text": [
            "I'm fine.\n",
            "\"Hello\", World!\n",
            "Hello, \n",
            "World!\n",
            "\\\n"
          ]
        }
      ]
    },
    {
      "cell_type": "code",
      "source": [
        "# 文字列の操作\n",
        "print(len('1234567')) #文字の個数"
      ],
      "metadata": {
        "colab": {
          "base_uri": "https://localhost:8080/"
        },
        "id": "obv_yaVDCfKK",
        "outputId": "4c2e7bff-e2f5-407e-80c3-646e26009bff"
      },
      "execution_count": null,
      "outputs": [
        {
          "output_type": "stream",
          "name": "stdout",
          "text": [
            "7\n"
          ]
        }
      ]
    },
    {
      "cell_type": "code",
      "source": [
        "# 変数を使う\n",
        "# 例題：　送料５００円込みの商品の値段を出力\n",
        "delivery_fee=500　#＿で区切られている書き方をスネークケースという\n",
        "print(1000+delivery_fee)\n",
        "print(1200+delivery_fee)\n",
        "print(1400+delivery_fee)\n",
        "# print('-----------------')\n",
        "print('送料が変わったら')\n",
        "delivery_fee=300\n",
        "print(1000+delivery_fee)\n",
        "print(1200+delivery_fee)\n",
        "print(1400+delivery_fee)"
      ],
      "metadata": {
        "colab": {
          "base_uri": "https://localhost:8080/"
        },
        "id": "1EtPUqkZC5jY",
        "outputId": "a0b42aa1-7a00-4765-87e3-b8be10f09ac5"
      },
      "execution_count": null,
      "outputs": [
        {
          "output_type": "stream",
          "name": "stdout",
          "text": [
            "1500\n",
            "1700\n",
            "1900\n",
            "送料が変わったら\n",
            "1300\n",
            "1500\n",
            "1700\n"
          ]
        }
      ]
    },
    {
      "cell_type": "code",
      "source": [
        "# 予約語 すでにpythonで使われている言葉\n",
        "import keyword\n",
        "print(keyword.kwlist)\n",
        "# 定数　変更されない数字とか. 普通大文字で書く。\n",
        "PI = 3.14\n",
        "TAX_RATE = 0.1"
      ],
      "metadata": {
        "colab": {
          "base_uri": "https://localhost:8080/"
        },
        "id": "wryIeVJGEa0p",
        "outputId": "e4401650-d6cb-415a-aff4-7fbf47467abd"
      },
      "execution_count": null,
      "outputs": [
        {
          "output_type": "stream",
          "name": "stdout",
          "text": [
            "['False', 'None', 'True', 'and', 'as', 'assert', 'async', 'await', 'break', 'class', 'continue', 'def', 'del', 'elif', 'else', 'except', 'finally', 'for', 'from', 'global', 'if', 'import', 'in', 'is', 'lambda', 'nonlocal', 'not', 'or', 'pass', 'raise', 'return', 'try', 'while', 'with', 'yield']\n"
          ]
        }
      ]
    },
    {
      "cell_type": "code",
      "source": [
        "# 複合代入演算子\n",
        "age = 20\n",
        "age += 2 # age = age + 2と同じ意味\n",
        "print(age)"
      ],
      "metadata": {
        "colab": {
          "base_uri": "https://localhost:8080/"
        },
        "id": "ItWiHw7gFVCh",
        "outputId": "2c453e17-cb79-47df-bd9d-29342379b9a3"
      },
      "execution_count": null,
      "outputs": [
        {
          "output_type": "stream",
          "name": "stdout",
          "text": [
            "22\n"
          ]
        }
      ]
    },
    {
      "cell_type": "code",
      "source": [
        "# 変数のデータ型。代入するたびに型ががわる\n",
        "i = 123\n",
        "f = 3.14\n",
        "s = '123'\n",
        "b = True\n",
        "print(type(i)) #整数型　数値型のこと\n",
        "print(type(f)) #小数型　数値型のこと\n",
        "print(type(s)) #文字列型　string\n",
        "print(type(b)) #ブール型　真偽値のこと"
      ],
      "metadata": {
        "colab": {
          "base_uri": "https://localhost:8080/"
        },
        "id": "pCXx4TFsGBQ-",
        "outputId": "2ea0a866-14bb-447f-e61a-21cacd526d90"
      },
      "execution_count": null,
      "outputs": [
        {
          "output_type": "stream",
          "name": "stdout",
          "text": [
            "<class 'int'>\n",
            "<class 'float'>\n",
            "<class 'str'>\n",
            "<class 'bool'>\n"
          ]
        }
      ]
    },
    {
      "cell_type": "code",
      "source": [
        "# input関数\n",
        "name = input('Please enter your name and press Enter key ')\n",
        "#nameは戻り値\n",
        "print ('Hello ' + name + 'san!')"
      ],
      "metadata": {
        "colab": {
          "base_uri": "https://localhost:8080/"
        },
        "id": "tdTNPjjpcyGd",
        "outputId": "769e72a4-45fb-4203-b339-a036f2faf5d1"
      },
      "execution_count": null,
      "outputs": [
        {
          "output_type": "stream",
          "name": "stdout",
          "text": [
            "Please enter your name and press Enter key Mizuno Takuo\n",
            "Hello Mizuno Takuosan!\n"
          ]
        }
      ]
    },
    {
      "cell_type": "code",
      "source": [
        "price = int(input ('how much'))\n",
        "print (price)\n",
        "print (type(price))\n",
        "# object is not callable というエラーが出た時は、上の🔽から「ランタイム」接続解除\n",
        "\n",
        "# price = input('合計金額をいれて')\n",
        "# count = input ('how many ppl?')\n",
        "# print = (price/count)\n",
        "# TypeError: unsupported operand type(s) for /: 'str' and 'str'\n",
        "price = int(input('how much?'))\n",
        "print (price)\n",
        "count = int(input ('how many ppl?'))\n",
        "print (count)\n",
        "print (price/count)"
      ],
      "metadata": {
        "colab": {
          "base_uri": "https://localhost:8080/"
        },
        "id": "rlHMKCVzl52F",
        "outputId": "223917a2-00bb-4e11-eeb0-03adfbf67e78"
      },
      "execution_count": null,
      "outputs": [
        {
          "output_type": "stream",
          "name": "stdout",
          "text": [
            "how much100\n",
            "100\n",
            "<class 'int'>\n",
            "how much?100\n",
            "100\n",
            "how many ppl?10\n",
            "10\n",
            "10.0\n"
          ]
        }
      ]
    },
    {
      "cell_type": "code",
      "source": [
        "height = float(input('how tall are u?'))\n",
        "weight = float (input ('how much do you weigh?'))\n",
        "BMI = weight/ (height*height)\n",
        "# print ('BMI:' + BMI)\n",
        "# TypeError: can only concatenate str (not \"float\") to str\n",
        "print ('BMI:' + str(BMI))"
      ],
      "metadata": {
        "id": "krl9op9qmTF0",
        "colab": {
          "base_uri": "https://localhost:8080/"
        },
        "outputId": "4071c9dd-dffe-4420-e201-25fdbf782e76"
      },
      "execution_count": null,
      "outputs": [
        {
          "output_type": "stream",
          "name": "stdout",
          "text": [
            "how tall are u?1.23\n",
            "how much do you weigh?23\n",
            "BMI:15.202591050300748\n"
          ]
        }
      ]
    },
    {
      "cell_type": "code",
      "source": [
        "# 文字列中に値を埋め込む\n",
        "# name = Yuna\n",
        "# NameError: name 'Yuna' is not defined →Yunaが文字列なのに’’で囲んでない。\n",
        "\n",
        "name = 'Yuna'\n",
        "hometown = 'Mie'\n",
        "print  ('My name is ' + name +'.' + ' I am from ' + hometown + '.')\n",
        "print ('My name is {}. I am from {}.' .format(name, hometown))\n",
        "# f文字列（f-strings）　という書き方もある\n",
        "print (f'My name is {name}. I am from {hometown}')"
      ],
      "metadata": {
        "colab": {
          "base_uri": "https://localhost:8080/"
        },
        "id": "LukIElqUHA8l",
        "outputId": "b43dc282-3150-4622-dd5f-4490371dd239"
      },
      "execution_count": 1,
      "outputs": [
        {
          "output_type": "stream",
          "name": "stdout",
          "text": [
            "My name is Yuna. I am from Mie.\n",
            "My name is Yuna. I am from Mie.\n",
            "My name is Yuna. I am from Mie\n"
          ]
        }
      ]
    },
    {
      "cell_type": "code",
      "source": [
        "# 演習\n",
        "name = 'ゆうな'\n",
        "age = 25\n",
        "# '25'でもよい\n",
        "print (f'私の名前は{name}です。{age}歳です。')"
      ],
      "metadata": {
        "colab": {
          "base_uri": "https://localhost:8080/"
        },
        "id": "vtaHeXLgnpia",
        "outputId": "9b040017-03f8-4008-cf06-a072304276bb"
      },
      "execution_count": 4,
      "outputs": [
        {
          "output_type": "stream",
          "name": "stdout",
          "text": [
            "私の名前はゆうなです。25歳です。\n"
          ]
        }
      ]
    }
  ]
}