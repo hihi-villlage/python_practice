{
  "nbformat": 4,
  "nbformat_minor": 0,
  "metadata": {
    "colab": {
      "provenance": [],
      "authorship_tag": "ABX9TyMEj+dSYUBTGurPRkYNXnOC",
      "include_colab_link": true
    },
    "kernelspec": {
      "name": "python3",
      "display_name": "Python 3"
    },
    "language_info": {
      "name": "python"
    }
  },
  "cells": [
    {
      "cell_type": "markdown",
      "metadata": {
        "id": "view-in-github",
        "colab_type": "text"
      },
      "source": [
        "<a href=\"https://colab.research.google.com/github/hihi-villlage/python_practice/blob/main/for.ipynb\" target=\"_parent\"><img src=\"https://colab.research.google.com/assets/colab-badge.svg\" alt=\"Open In Colab\"/></a>"
      ]
    },
    {
      "cell_type": "code",
      "execution_count": 7,
      "metadata": {
        "colab": {
          "base_uri": "https://localhost:8080/"
        },
        "id": "NLpnxECnjExq",
        "outputId": "167ed70e-465d-44e4-bc89-fcdf18855c58"
      },
      "outputs": [
        {
          "output_type": "stream",
          "name": "stdout",
          "text": [
            "2\n",
            "4\n",
            "6\n",
            " \n",
            "8\n",
            "7\n",
            "6\n",
            "5\n",
            "4\n",
            "3\n"
          ]
        }
      ],
      "source": [
        "# 繰り返し処理\n",
        "# 一行ずつ表示させることができる\n",
        "# 最後まで処理が終わったらforを抜ける\n",
        "\n",
        "# 例１）整数値を表示\n",
        "# range (a, b, c) a <= i < b, +cずつ\n",
        "# for i in range (10):\n",
        "for i in range (2, 8, 2):\n",
        "    print (i)\n",
        "print (' ')\n",
        "for a in range (8, 2, -1):\n",
        "    print (a)"
      ]
    },
    {
      "cell_type": "code",
      "source": [
        "# 例２）リストの中の要素を一行ずつ表示\n",
        "scores = [10, 20, 30, 40, 50]\n",
        "for score in scores:\n",
        "    print (score)\n",
        "# まずリストを作って、繰り返しfor関数。　score を　scores の要素だけ繰り返して、scoreを出力。\n",
        "# scoresは整数の要素なので、rangeは不要。　score はintなので、printで’’不要。"
      ],
      "metadata": {
        "colab": {
          "base_uri": "https://localhost:8080/"
        },
        "id": "7fx6nP44k0Hj",
        "outputId": "2e088d45-c388-45a9-a43b-baedfc13b6b4"
      },
      "execution_count": 14,
      "outputs": [
        {
          "output_type": "stream",
          "name": "stdout",
          "text": [
            "10\n",
            "20\n",
            "30\n",
            "40\n",
            "50\n"
          ]
        }
      ]
    },
    {
      "cell_type": "code",
      "source": [
        "# for の入れ子を使う\n",
        "# 一般的に２つまでが良い。複雑さや見やすさ的にも。\n",
        "# 例３）九九を計算してみる\n",
        "for i in range (1,10):\n",
        "    for j in range (1,10):\n",
        "        print (f'{i} * {j} = {i * j}')\n",
        "# i を繰り返している間にjを９回繰り返す。iは９回繰り返す。"
      ],
      "metadata": {
        "colab": {
          "base_uri": "https://localhost:8080/"
        },
        "id": "gNIPzRQZmo1-",
        "outputId": "5e0d1a72-48ec-469b-c1df-8914e7eed2dd"
      },
      "execution_count": 13,
      "outputs": [
        {
          "output_type": "stream",
          "name": "stdout",
          "text": [
            "1 * 1 = 1\n",
            "1 * 2 = 2\n",
            "1 * 3 = 3\n",
            "1 * 4 = 4\n",
            "1 * 5 = 5\n",
            "1 * 6 = 6\n",
            "1 * 7 = 7\n",
            "1 * 8 = 8\n",
            "1 * 9 = 9\n",
            "2 * 1 = 2\n",
            "2 * 2 = 4\n",
            "2 * 3 = 6\n",
            "2 * 4 = 8\n",
            "2 * 5 = 10\n",
            "2 * 6 = 12\n",
            "2 * 7 = 14\n",
            "2 * 8 = 16\n",
            "2 * 9 = 18\n",
            "3 * 1 = 3\n",
            "3 * 2 = 6\n",
            "3 * 3 = 9\n",
            "3 * 4 = 12\n",
            "3 * 5 = 15\n",
            "3 * 6 = 18\n",
            "3 * 7 = 21\n",
            "3 * 8 = 24\n",
            "3 * 9 = 27\n",
            "4 * 1 = 4\n",
            "4 * 2 = 8\n",
            "4 * 3 = 12\n",
            "4 * 4 = 16\n",
            "4 * 5 = 20\n",
            "4 * 6 = 24\n",
            "4 * 7 = 28\n",
            "4 * 8 = 32\n",
            "4 * 9 = 36\n",
            "5 * 1 = 5\n",
            "5 * 2 = 10\n",
            "5 * 3 = 15\n",
            "5 * 4 = 20\n",
            "5 * 5 = 25\n",
            "5 * 6 = 30\n",
            "5 * 7 = 35\n",
            "5 * 8 = 40\n",
            "5 * 9 = 45\n",
            "6 * 1 = 6\n",
            "6 * 2 = 12\n",
            "6 * 3 = 18\n",
            "6 * 4 = 24\n",
            "6 * 5 = 30\n",
            "6 * 6 = 36\n",
            "6 * 7 = 42\n",
            "6 * 8 = 48\n",
            "6 * 9 = 54\n",
            "7 * 1 = 7\n",
            "7 * 2 = 14\n",
            "7 * 3 = 21\n",
            "7 * 4 = 28\n",
            "7 * 5 = 35\n",
            "7 * 6 = 42\n",
            "7 * 7 = 49\n",
            "7 * 8 = 56\n",
            "7 * 9 = 63\n",
            "8 * 1 = 8\n",
            "8 * 2 = 16\n",
            "8 * 3 = 24\n",
            "8 * 4 = 32\n",
            "8 * 5 = 40\n",
            "8 * 6 = 48\n",
            "8 * 7 = 56\n",
            "8 * 8 = 64\n",
            "8 * 9 = 72\n",
            "9 * 1 = 9\n",
            "9 * 2 = 18\n",
            "9 * 3 = 27\n",
            "9 * 4 = 36\n",
            "9 * 5 = 45\n",
            "9 * 6 = 54\n",
            "9 * 7 = 63\n",
            "9 * 8 = 72\n",
            "9 * 9 = 81\n"
          ]
        }
      ]
    },
    {
      "cell_type": "code",
      "source": [
        "# break, continue\n",
        "# break は、繰り返しの中断。\n",
        "# continue は、その回を中断・スキップして、次の回を実行\n",
        "\n",
        "for i in range (1,10):\n",
        "    if i == 2:\n",
        "        print ('1の段で終わり')\n",
        "        break\n",
        "    for j in range (1,10):\n",
        "        if  j % 2 == 0:\n",
        "            print ('偶数なのでスキップ')\n",
        "            continue\n",
        "        print (f'{i} * {j} = {i * j}')"
      ],
      "metadata": {
        "colab": {
          "base_uri": "https://localhost:8080/"
        },
        "id": "1eRi7QU2oQDN",
        "outputId": "be35bfc4-af55-4a65-ea6e-6d80c9feaa25"
      },
      "execution_count": 18,
      "outputs": [
        {
          "output_type": "stream",
          "name": "stdout",
          "text": [
            "1 * 1 = 1\n",
            "偶数なのでスキップ\n",
            "1 * 3 = 3\n",
            "偶数なのでスキップ\n",
            "1 * 5 = 5\n",
            "偶数なのでスキップ\n",
            "1 * 7 = 7\n",
            "偶数なのでスキップ\n",
            "1 * 9 = 9\n",
            "1の段で終わり\n"
          ]
        }
      ]
    },
    {
      "cell_type": "code",
      "source": [
        "# while\n",
        "# forの代わりに使える\n",
        "\n",
        "count = 0\n",
        "while count < 5:\n",
        "    print (count)\n",
        "    count += 1\n",
        "#  count += 1 を入れないと、永遠にループしてしまうので注意！！\n",
        "\n",
        "# break, continueも使える\n",
        "count = 0\n",
        "while count < 8:\n",
        "    if count == 2:\n",
        "        print ('２なので飛ばす')\n",
        "        count += 1\n",
        "        continue\n",
        "    if count == 3:\n",
        "        print ('３で終わり')\n",
        "        break\n",
        "    print (count)\n",
        "    count += 1"
      ],
      "metadata": {
        "colab": {
          "base_uri": "https://localhost:8080/",
          "height": 415
        },
        "id": "YJckuBTEqmZX",
        "outputId": "81580ad0-f578-4703-f2ee-3f4828927cc2"
      },
      "execution_count": 26,
      "outputs": [
        {
          "output_type": "stream",
          "name": "stdout",
          "text": [
            "0\n",
            "1\n",
            "2\n",
            "3\n",
            "4\n",
            "0\n",
            "1\n",
            "２なので飛ばす\n",
            "３で終わり\n"
          ]
        },
        {
          "output_type": "error",
          "ename": "TypeError",
          "evalue": "ignored",
          "traceback": [
            "\u001b[0;31m---------------------------------------------------------------------------\u001b[0m",
            "\u001b[0;31mTypeError\u001b[0m                                 Traceback (most recent call last)",
            "\u001b[0;32m<ipython-input-26-e673592c69b3>\u001b[0m in \u001b[0;36m<cell line: 26>\u001b[0;34m()\u001b[0m\n\u001b[1;32m     24\u001b[0m \u001b[0mscores\u001b[0m \u001b[0;34m=\u001b[0m \u001b[0;34m[\u001b[0m\u001b[0;36m10\u001b[0m\u001b[0;34m,\u001b[0m \u001b[0;36m20\u001b[0m\u001b[0;34m,\u001b[0m \u001b[0;36m30\u001b[0m\u001b[0;34m,\u001b[0m \u001b[0;36m40\u001b[0m\u001b[0;34m,\u001b[0m \u001b[0;36m50\u001b[0m\u001b[0;34m]\u001b[0m\u001b[0;34m\u001b[0m\u001b[0;34m\u001b[0m\u001b[0m\n\u001b[1;32m     25\u001b[0m \u001b[0mcount\u001b[0m \u001b[0;34m=\u001b[0m \u001b[0;36m0\u001b[0m\u001b[0;34m\u001b[0m\u001b[0;34m\u001b[0m\u001b[0m\n\u001b[0;32m---> 26\u001b[0;31m \u001b[0;32mwhile\u001b[0m \u001b[0mcount\u001b[0m \u001b[0;34m<\u001b[0m \u001b[0;34m(\u001b[0m\u001b[0mlen\u001b[0m\u001b[0;34m[\u001b[0m\u001b[0mscores\u001b[0m\u001b[0;34m]\u001b[0m\u001b[0;34m)\u001b[0m\u001b[0;34m:\u001b[0m\u001b[0;34m\u001b[0m\u001b[0;34m\u001b[0m\u001b[0m\n\u001b[0m\u001b[1;32m     27\u001b[0m     \u001b[0mprint\u001b[0m \u001b[0;34m(\u001b[0m\u001b[0mscores\u001b[0m\u001b[0;34m)\u001b[0m\u001b[0;34m\u001b[0m\u001b[0;34m\u001b[0m\u001b[0m\n\u001b[1;32m     28\u001b[0m     \u001b[0mcount\u001b[0m \u001b[0;34m+=\u001b[0m \u001b[0;36m1\u001b[0m\u001b[0;34m\u001b[0m\u001b[0;34m\u001b[0m\u001b[0m\n",
            "\u001b[0;31mTypeError\u001b[0m: 'builtin_function_or_method' object is not subscriptable"
          ]
        }
      ]
    },
    {
      "cell_type": "code",
      "source": [
        "# リストにもwhile使える\n",
        "scores = [10, 20, 30, 40, 50]\n",
        "count = 0\n",
        "while count < len(scores):\n",
        "    print (scores[count])\n",
        "    count += 1"
      ],
      "metadata": {
        "colab": {
          "base_uri": "https://localhost:8080/"
        },
        "id": "kXVgdykesLvI",
        "outputId": "fb1d3cf4-57b3-4562-9a93-f278dc4a04e1"
      },
      "execution_count": 29,
      "outputs": [
        {
          "output_type": "stream",
          "name": "stdout",
          "text": [
            "10\n",
            "20\n",
            "30\n",
            "40\n",
            "50\n"
          ]
        }
      ]
    },
    {
      "cell_type": "code",
      "source": [
        "# for: 繰り返しの回数がわかっているとき、リストを扱う時\n",
        "# while: 繰り返しの回数がわからないが、特定の条件で止めたい時"
      ],
      "metadata": {
        "id": "xNwbYIE7rMWQ"
      },
      "execution_count": null,
      "outputs": []
    },
    {
      "cell_type": "code",
      "source": [
        "# 演習\n",
        "scores = [100, 90, 80, 70, 60]\n",
        "sum = 0\n",
        "for score in scores:\n",
        "    sum = sum + score\n",
        "    # sum += score でもいい（sum自身に足し算するから）\n",
        "average = sum / len(scores)\n",
        "print (f'合計値　{sum}')\n",
        "print (f'平均値 {average}')"
      ],
      "metadata": {
        "colab": {
          "base_uri": "https://localhost:8080/"
        },
        "id": "P-4sfgvgtMXX",
        "outputId": "8519577f-ddda-40e6-a7eb-53a90f829e6f"
      },
      "execution_count": 35,
      "outputs": [
        {
          "output_type": "stream",
          "name": "stdout",
          "text": [
            "合計値　400\n",
            "平均値 80.0\n"
          ]
        }
      ]
    }
  ]
}