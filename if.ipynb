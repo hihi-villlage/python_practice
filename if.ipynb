{
  "nbformat": 4,
  "nbformat_minor": 0,
  "metadata": {
    "colab": {
      "provenance": [],
      "authorship_tag": "ABX9TyNp4fAs6EMsoTNGooiCtVkT"
    },
    "kernelspec": {
      "name": "python3",
      "display_name": "Python 3"
    },
    "language_info": {
      "name": "python"
    }
  },
  "cells": [
    {
      "cell_type": "code",
      "execution_count": 4,
      "metadata": {
        "colab": {
          "base_uri": "https://localhost:8080/"
        },
        "id": "tTN1OU9u5t9M",
        "outputId": "c821b53f-e8f0-4cf8-cd02-b876e0cbf8f4"
      },
      "outputs": [
        {
          "output_type": "stream",
          "name": "stdout",
          "text": [
            "A\n",
            "Excellent\n"
          ]
        }
      ],
      "source": [
        "# if構文　条件を満たすときの実行内容を書く\n",
        "\n",
        "score = 80\n",
        "#条件式。「：」を忘れない！\n",
        "if score >= 80:\n",
        "    # indent (字下げ)を忘れない！　字下げをしている塊を「ブロック」という。\n",
        "    print ('A')\n",
        "    print ('Excellent')\n",
        "\n",
        "# 比較演算子\n",
        "# == 同じ\n",
        "# != 異なる\n",
        "# <=, <, >=, > 以上、大きい、以下、未満　など"
      ]
    },
    {
      "cell_type": "code",
      "source": [
        "# 書いた条件を満たさない時の実行内容はelseに書く。\n",
        "score = 60\n",
        "if score >= 80:\n",
        "    print ('A')\n",
        "    print ('Excellent')\n",
        "else:\n",
        "    print ('X')"
      ],
      "metadata": {
        "colab": {
          "base_uri": "https://localhost:8080/"
        },
        "id": "N6EaER-w8MnJ",
        "outputId": "89010d86-082d-4208-9c16-e078ecdb93dd"
      },
      "execution_count": 5,
      "outputs": [
        {
          "output_type": "stream",
          "name": "stdout",
          "text": [
            "X\n"
          ]
        }
      ]
    },
    {
      "cell_type": "code",
      "source": [
        "# 条件式の追加\n",
        "score = 79\n",
        "if score >= 80:\n",
        "    print ('A')\n",
        "elif score >= 70:\n",
        "    print ('B')\n",
        "elif score >= 60:\n",
        "    print ('C')\n",
        "else:\n",
        "    print ('X')"
      ],
      "metadata": {
        "colab": {
          "base_uri": "https://localhost:8080/"
        },
        "id": "cKWLUbUC9s_F",
        "outputId": "4edefb6e-cd64-4e86-ac92-f13d701b348a"
      },
      "execution_count": 9,
      "outputs": [
        {
          "output_type": "stream",
          "name": "stdout",
          "text": [
            "B\n"
          ]
        }
      ]
    },
    {
      "cell_type": "code",
      "source": [
        "# 実用的な感じに仕上げる\n",
        "score = int (input ('please enter your score. '))\n",
        "if score >= 80:\n",
        "    print ('A')\n",
        "elif score >= 70:\n",
        "    print ('B')\n",
        "elif score >= 60:\n",
        "    print ('C')\n",
        "else:\n",
        "    print ('X')"
      ],
      "metadata": {
        "colab": {
          "base_uri": "https://localhost:8080/"
        },
        "id": "WJSscOnD-X9L",
        "outputId": "f54cbc26-d436-46ee-db71-a58328d77cb7"
      },
      "execution_count": 11,
      "outputs": [
        {
          "output_type": "stream",
          "name": "stdout",
          "text": [
            "please enter your score. 79\n",
            "B\n"
          ]
        }
      ]
    },
    {
      "cell_type": "code",
      "source": [
        "# 真偽値　true or false\n",
        "# データ型：bool\n",
        "# printで比較演算子を使った式を入れると真偽値が出力される\n",
        "score = 79\n",
        "print (score >= 80)"
      ],
      "metadata": {
        "colab": {
          "base_uri": "https://localhost:8080/"
        },
        "id": "9kFTkOAa-9Za",
        "outputId": "41f1c4c4-85c5-41b7-d519-a1392f7f99f0"
      },
      "execution_count": 13,
      "outputs": [
        {
          "output_type": "stream",
          "name": "stdout",
          "text": [
            "False\n"
          ]
        }
      ]
    },
    {
      "cell_type": "code",
      "source": [
        "# 論理演算子\n",
        "# or：または、and:且つ\n",
        "math_score = 90\n",
        "science_score = 90\n",
        "if math_score ==100 or science_score ==100:\n",
        "    print ('OK')\n",
        "else:\n",
        "    print ('take a exam again')\n",
        "\n",
        "# not\n",
        "# 例）数字が偶数じゃない（＝２で割って余りが０じゃない）時はその数値を出力\n",
        "number = 100\n",
        "if (not number %2 == 0):\n",
        "    print (f'{number} is odd')\n",
        "else:\n",
        "    print (f'{number} is even')"
      ],
      "metadata": {
        "colab": {
          "base_uri": "https://localhost:8080/"
        },
        "id": "bWEMVdfWARkI",
        "outputId": "3c6c60eb-c985-4804-9212-4151ce143cfc"
      },
      "execution_count": 19,
      "outputs": [
        {
          "output_type": "stream",
          "name": "stdout",
          "text": [
            "take a exam again\n",
            "100 is even\n"
          ]
        }
      ]
    },
    {
      "cell_type": "code",
      "source": [
        "# in演算子：　リストにある文字が入っているかどうか、を判断できる\n",
        "scores = [90, 80, 70, 50, 80]\n",
        "if 100 in scores:\n",
        "    print ('すごい')\n",
        "else:\n",
        "    print ('もう少し頑張って')\n"
      ],
      "metadata": {
        "colab": {
          "base_uri": "https://localhost:8080/"
        },
        "id": "RZ0dmPqyChTb",
        "outputId": "e9af7862-58b2-4e24-fd42-8edea496934c"
      },
      "execution_count": 22,
      "outputs": [
        {
          "output_type": "stream",
          "name": "stdout",
          "text": [
            "もう少し頑張って\n"
          ]
        }
      ]
    },
    {
      "cell_type": "code",
      "source": [
        "# practice\n",
        "height = float(input('how tall are you?[m]'))\n",
        "weight = float (input ('how much do you weight?[kg]'))\n",
        "bmi = weight / (height * height)\n",
        "print (f'your BMI is {bmi}')\n",
        "if bmi < 18.5:\n",
        "    print ('痩せ')\n",
        "elif bmi >= 18.5 and bmi <25:\n",
        "    print ('普通')\n",
        "else:\n",
        "    print ('肥満')"
      ],
      "metadata": {
        "colab": {
          "base_uri": "https://localhost:8080/"
        },
        "id": "Xf-zgNSXDI5n",
        "outputId": "26028545-8aaf-4644-bb44-3e261898ff2f"
      },
      "execution_count": 28,
      "outputs": [
        {
          "output_type": "stream",
          "name": "stdout",
          "text": [
            "how tall are you?[m]1.7\n",
            "how much do you weight?[kg]80\n",
            "your BMI is 27.68166089965398\n",
            "肥満\n"
          ]
        }
      ]
    }
  ]
}